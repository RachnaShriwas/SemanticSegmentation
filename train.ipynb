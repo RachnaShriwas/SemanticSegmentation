{
 "cells": [
  {
   "cell_type": "code",
   "execution_count": 31,
   "metadata": {},
   "outputs": [],
   "source": [
    "import sys\n",
    "\n",
    "from datasets import DatasetTrain, DatasetVal \n",
    "\n",
    "sys.path.append(\"./model\")\n",
    "from model import Model\n",
    "\n",
    "sys.path.append(\"./utils\")\n",
    "from utils import add_weight_decay\n",
    "\n",
    "import torch\n",
    "import torch.utils.data\n",
    "import torch.nn as nn\n",
    "from torch.autograd import Variable\n",
    "import torch.optim as optim\n",
    "import torch.nn.functional as F\n",
    "\n",
    "import numpy as np\n",
    "import pickle\n",
    "import matplotlib\n",
    "matplotlib.use(\"Agg\")\n",
    "import matplotlib.pyplot as plt\n",
    "import cv2\n",
    "\n",
    "import time\n",
    "import warnings\n",
    "warnings.simplefilter('ignore')"
   ]
  },
  {
   "cell_type": "code",
   "execution_count": 17,
   "metadata": {},
   "outputs": [],
   "source": [
    "model_id = \"1\"\n",
    "\n",
    "num_epochs = 10\n",
    "batch_size = 3\n",
    "learning_rate = 0.0001"
   ]
  },
  {
   "cell_type": "code",
   "execution_count": 18,
   "metadata": {},
   "outputs": [
    {
     "name": "stdout",
     "output_type": "stream",
     "text": [
      "pretrained resnet, 18\n"
     ]
    }
   ],
   "source": [
    "if torch.cuda.is_available():\n",
    "    network = Model(model_id, project_dir=\"./\").cuda()\n",
    "else:\n",
    "    network = Model(model_id, project_dir=\"./\")"
   ]
  },
  {
   "cell_type": "code",
   "execution_count": 19,
   "metadata": {},
   "outputs": [
    {
     "name": "stdout",
     "output_type": "stream",
     "text": [
      "('num_train_batches:', 991)\n",
      "('num_val_batches:', 166)\n"
     ]
    }
   ],
   "source": [
    "train_dataset = DatasetTrain(cityscapes_data_path=\"./data_dir/cityscapes\",\n",
    "                             cityscapes_meta_path=\"./data_dir/cityscapes/meta\")\n",
    "val_dataset = DatasetVal(cityscapes_data_path=\"./data_dir/cityscapes\",\n",
    "                         cityscapes_meta_path=\"./data_dir/cityscapes/meta\")\n",
    "\n",
    "num_train_batches = int(len(train_dataset)/batch_size)\n",
    "num_val_batches = int(len(val_dataset)/batch_size)\n",
    "print (\"num_train_batches:\", num_train_batches)\n",
    "print (\"num_val_batches:\", num_val_batches)"
   ]
  },
  {
   "cell_type": "code",
   "execution_count": 20,
   "metadata": {},
   "outputs": [],
   "source": [
    "train_loader = torch.utils.data.DataLoader(dataset=train_dataset,\n",
    "                                           batch_size=batch_size, shuffle=True,\n",
    "                                           num_workers=0)\n",
    "val_loader = torch.utils.data.DataLoader(dataset=val_dataset,\n",
    "                                         batch_size=batch_size, shuffle=False,\n",
    "                                         num_workers=0)\n",
    "\n",
    "params = add_weight_decay(network, l2_value=0.0001)\n",
    "optimizer = torch.optim.Adam(params, lr=learning_rate)"
   ]
  },
  {
   "cell_type": "code",
   "execution_count": 21,
   "metadata": {},
   "outputs": [],
   "source": [
    "with open(\"./data_dir/cityscapes/meta/class_weights.pkl\", \"rb\") as file: \n",
    "    class_weights = np.array(pickle.load(file))\n",
    "class_weights = torch.from_numpy(class_weights)\n",
    "class_weights = Variable(class_weights.type(torch.FloatTensor))\n",
    "\n",
    "# loss function\n",
    "loss_fn = nn.CrossEntropyLoss(weight=class_weights)"
   ]
  },
  {
   "cell_type": "code",
   "execution_count": 22,
   "metadata": {},
   "outputs": [],
   "source": [
    "epoch_losses_train = []\n",
    "epoch_losses_val = []"
   ]
  },
  {
   "cell_type": "code",
   "execution_count": 23,
   "metadata": {},
   "outputs": [
    {
     "name": "stdout",
     "output_type": "stream",
     "text": [
      "###########################\n",
      "######## NEW EPOCH ########\n",
      "###########################\n",
      "epoch: 1/10\n",
      "Train loss: 1.80425\n",
      "####\n",
      "Val loss: 1.28603\n",
      "###########################\n",
      "######## NEW EPOCH ########\n",
      "###########################\n",
      "epoch: 2/10\n",
      "Train loss: 1.34905\n",
      "####\n",
      "Val loss: 1.1592\n",
      "###########################\n",
      "######## NEW EPOCH ########\n",
      "###########################\n",
      "epoch: 3/10\n",
      "Train loss: 1.217\n",
      "####\n",
      "Val loss: 0.999158\n",
      "###########################\n",
      "######## NEW EPOCH ########\n",
      "###########################\n",
      "epoch: 4/10\n",
      "Train loss: 1.14101\n",
      "####\n",
      "Val loss: 0.929506\n",
      "###########################\n",
      "######## NEW EPOCH ########\n",
      "###########################\n",
      "epoch: 5/10\n",
      "Train loss: 1.0641\n",
      "####\n",
      "Val loss: 0.914585\n",
      "###########################\n",
      "######## NEW EPOCH ########\n",
      "###########################\n",
      "epoch: 6/10\n",
      "Train loss: 1.02473\n",
      "####\n",
      "Val loss: 0.903437\n",
      "###########################\n",
      "######## NEW EPOCH ########\n",
      "###########################\n",
      "epoch: 7/10\n",
      "Train loss: 0.966139\n",
      "####\n",
      "Val loss: 0.8555\n",
      "###########################\n",
      "######## NEW EPOCH ########\n",
      "###########################\n",
      "epoch: 8/10\n",
      "Train loss: 0.975115\n",
      "####\n",
      "Val loss: 0.891985\n",
      "###########################\n",
      "######## NEW EPOCH ########\n",
      "###########################\n",
      "epoch: 9/10\n",
      "Train loss: 0.910697\n",
      "####\n",
      "Val loss: 0.811409\n",
      "###########################\n",
      "######## NEW EPOCH ########\n",
      "###########################\n",
      "epoch: 10/10\n",
      "Train loss: 0.885578\n",
      "####\n",
      "Val loss: 0.799734\n"
     ]
    }
   ],
   "source": [
    "for epoch in range(num_epochs):\n",
    "    print (\"###########################\")\n",
    "    print (\"######## NEW EPOCH ########\")\n",
    "    print (\"###########################\")\n",
    "    print (\"epoch: %d/%d\" % (epoch+1, num_epochs))\n",
    "\n",
    "    network.train() \n",
    "    batch_losses = []\n",
    "    for step, (imgs, label_imgs) in enumerate(train_loader):\n",
    "        imgs = Variable(imgs) # (shape: (batch_size, 3, img_h, img_w))\n",
    "        label_imgs = Variable(label_imgs.type(torch.LongTensor)) # (shape: (batch_size, img_h, img_w))\n",
    "\n",
    "        outputs = network(imgs) # (shape: (batch_size, num_classes, img_h, img_w))\n",
    "\n",
    "        # compute the loss:\n",
    "        loss = loss_fn(outputs, label_imgs)\n",
    "        loss_value = loss.data.cpu().numpy()\n",
    "        batch_losses.append(loss_value)\n",
    "\n",
    "        # optimization step:\n",
    "        optimizer.zero_grad() # (reset gradients)\n",
    "        loss.backward() # (compute gradients)\n",
    "        optimizer.step() # (perform optimization step)\n",
    "\n",
    "    epoch_loss = np.mean(batch_losses)\n",
    "    epoch_losses_train.append(epoch_loss)\n",
    "    with open(\"%s/epoch_losses_train.pkl\" % network.model_dir, \"wb\") as file:\n",
    "        pickle.dump(epoch_losses_train, file)\n",
    "    print (\"Train loss: %g\" % epoch_loss)\n",
    "    plt.figure(1)\n",
    "    plt.plot(epoch_losses_train, \"k^\")\n",
    "    plt.plot(epoch_losses_train, \"k\")\n",
    "    plt.ylabel(\"Loss\")\n",
    "    plt.xlabel(\"Epoch\")\n",
    "    plt.title(\"Train loss per epoch\")\n",
    "    plt.savefig(\"%s/epoch_losses_train.png\" % network.model_dir)\n",
    "    plt.close(1)\n",
    "\n",
    "    print (\"####\")\n",
    "\n",
    "    ############################################################################\n",
    "    # val:\n",
    "    ############################################################################\n",
    "    network.eval() \n",
    "    batch_losses = []\n",
    "    for step, (imgs, label_imgs, img_ids) in enumerate(val_loader):\n",
    "        with torch.no_grad(): \n",
    "            imgs = Variable(imgs) # (shape: (batch_size, 3, img_h, img_w))\n",
    "            label_imgs = Variable(label_imgs.type(torch.LongTensor)) # (shape: (batch_size, img_h, img_w))\n",
    "\n",
    "            outputs = network(imgs) # (shape: (batch_size, num_classes, img_h, img_w))\n",
    "\n",
    "            # compute the loss:\n",
    "            loss = loss_fn(outputs, label_imgs)\n",
    "            loss_value = loss.data.cpu().numpy()\n",
    "            batch_losses.append(loss_value)\n",
    "\n",
    "    epoch_loss = np.mean(batch_losses)\n",
    "    epoch_losses_val.append(epoch_loss)\n",
    "    with open(\"%s/epoch_losses_val.pkl\" % network.model_dir, \"wb\") as file:\n",
    "        pickle.dump(epoch_losses_val, file)\n",
    "    print (\"Val loss: %g\" % epoch_loss)\n",
    "    plt.figure(1)\n",
    "    plt.plot(epoch_losses_val, \"k^\")\n",
    "    plt.plot(epoch_losses_val, \"k\")\n",
    "    plt.ylabel(\"Loss\")\n",
    "    plt.xlabel(\"Epoch\")\n",
    "    plt.title(\"Val loss per epoch\")\n",
    "    plt.savefig(\"%s/epoch_losses_val.png\" % network.model_dir)\n",
    "    plt.close(1)\n",
    "\n",
    "    # save the model weights to disk:\n",
    "    checkpoint_path = network.checkpoints_dir + \"/model_\" + model_id +\"_epoch_\" + str(epoch+1) + \".pth\"\n",
    "    torch.save(network.state_dict(), checkpoint_path)"
   ]
  },
  {
   "cell_type": "code",
   "execution_count": 37,
   "metadata": {},
   "outputs": [
    {
     "data": {
      "image/png": "[encoded data removed]",
      "text/plain": [
       "<Figure size 432x288 with 1 Axes>"
      ]
     },
     "metadata": {
      "needs_background": "light"
     },
     "output_type": "display_data"
    }
   ],
   "source": [
    "%matplotlib inline\n",
    "plt.plot(epoch_losses_train, \"k^\")\n",
    "plt.plot(epoch_losses_train, \"k\")\n",
    "plt.ylabel(\"Loss\")\n",
    "plt.xlabel(\"Epoch\")\n",
    "plt.title(\"Train loss per epoch\")\n",
    "plt.show()"
   ]
  },
  {
   "cell_type": "code",
   "execution_count": 39,
   "metadata": {},
   "outputs": [
    {
     "data": {
      "image/png": "[encoded data removed]",
      "text/plain": [
       "<Figure size 432x288 with 1 Axes>"
      ]
     },
     "metadata": {
      "needs_background": "light"
     },
     "output_type": "display_data"
    }
   ],
   "source": [
    "plt.plot(epoch_losses_val, \"k^\")\n",
    "plt.plot(epoch_losses_val, \"k\")\n",
    "plt.ylabel(\"Loss\")\n",
    "plt.xlabel(\"Epoch\")\n",
    "plt.title(\"Val loss per epoch\")\n",
    "plt.show()"
   ]
  }
 ],
 "metadata": {
  "kernelspec": {
   "display_name": "Python 2",
   "language": "python",
   "name": "python2"
  },
  "language_info": {
   "codemirror_mode": {
    "name": "ipython",
    "version": 2
   },
   "file_extension": ".py",
   "mimetype": "text/x-python",
   "name": "python",
   "nbconvert_exporter": "python",
   "pygments_lexer": "ipython2",
   "version": "2.7.15"
  }
 },
 "nbformat": 4,
 "nbformat_minor": 2
}
